{
 "cells": [
  {
   "cell_type": "code",
   "execution_count": 7,
   "metadata": {},
   "outputs": [],
   "source": [
    "import pandas as pd\n",
    "from prettytable import PrettyTable # pip install prettytable"
   ]
  },
  {
   "cell_type": "code",
   "execution_count": 8,
   "metadata": {},
   "outputs": [],
   "source": [
    "train = pd.read_csv('train.csv')\n",
    "test = pd.read_csv('test.csv')\n",
    "validation = pd.read_csv('validation.csv')"
   ]
  },
  {
   "cell_type": "code",
   "execution_count": 9,
   "metadata": {},
   "outputs": [
    {
     "name": "stdout",
     "output_type": "stream",
     "text": [
      "train.csv\n",
      "   Index(['id', 'split', 'en_US', 'de_DE', 'hi_IN', 'es_ES', 'fr_FR', 'it_IT',\n",
      "       'ar_SA', 'nl_NL', 'ja_JP', 'pt_PT'],\n",
      "      dtype='object')\n",
      "test.csv\n",
      "   Index(['id', 'split', 'en_US', 'de_DE', 'hi_IN', 'es_ES', 'fr_FR', 'it_IT',\n",
      "       'ar_SA', 'nl_NL', 'ja_JP', 'pt_PT'],\n",
      "      dtype='object')\n",
      "validation.csv\n",
      "   Index(['id', 'split', 'en_US', 'de_DE', 'hi_IN', 'es_ES', 'fr_FR', 'it_IT',\n",
      "       'ar_SA', 'nl_NL', 'ja_JP', 'pt_PT'],\n",
      "      dtype='object')\n"
     ]
    }
   ],
   "source": [
    "print(\"train.csv\")\n",
    "print(\"  \", train.columns)\n",
    "print(\"test.csv\")\n",
    "print(\"  \", test.columns)\n",
    "print(\"validation.csv\")\n",
    "print(\"  \", validation.columns)"
   ]
  },
  {
   "cell_type": "code",
   "execution_count": 10,
   "metadata": {},
   "outputs": [
    {
     "name": "stdout",
     "output_type": "stream",
     "text": [
      "Linhas e colunas\n"
     ]
    },
    {
     "data": {
      "text/html": [
       "<table>\n",
       "    <thead>\n",
       "        <tr>\n",
       "            <th>Dataset</th>\n",
       "            <th>#Rows</th>\n",
       "            <th>#Columns</th>\n",
       "        </tr>\n",
       "    </thead>\n",
       "    <tbody>\n",
       "        <tr>\n",
       "            <td>train</td>\n",
       "            <td>11514</td>\n",
       "            <td>12</td>\n",
       "        </tr>\n",
       "        <tr>\n",
       "            <td>test</td>\n",
       "            <td>2974</td>\n",
       "            <td>12</td>\n",
       "        </tr>\n",
       "        <tr>\n",
       "            <td>validation</td>\n",
       "            <td>2033</td>\n",
       "            <td>12</td>\n",
       "        </tr>\n",
       "    </tbody>\n",
       "</table>"
      ],
      "text/plain": [
       "+------------+-------+----------+\n",
       "|  Dataset   | #Rows | #Columns |\n",
       "+------------+-------+----------+\n",
       "|   train    | 11514 |    12    |\n",
       "|    test    |  2974 |    12    |\n",
       "| validation |  2033 |    12    |\n",
       "+------------+-------+----------+"
      ]
     },
     "execution_count": 10,
     "metadata": {},
     "output_type": "execute_result"
    }
   ],
   "source": [
    "print(\"Linhas e colunas\")\n",
    "table = PrettyTable()\n",
    "table.field_names = [\"Dataset\", \"#Rows\", \"#Columns\"]\n",
    "for (dataset,dataset_name) in [(train,\"train\"), (test,\"test\"), (validation,\"validation\")]:\n",
    "    table.add_row([dataset_name, dataset.shape[0], dataset.shape[1]])\n",
    "table"
   ]
  },
  {
   "cell_type": "code",
   "execution_count": 11,
   "metadata": {},
   "outputs": [
    {
     "name": "stdout",
     "output_type": "stream",
     "text": [
      "Quantidade de valores diferentes em cada língua em cada dataset:\n"
     ]
    },
    {
     "data": {
      "text/html": [
       "<table>\n",
       "    <thead>\n",
       "        <tr>\n",
       "            <th>Dataset</th>\n",
       "            <th>en_US</th>\n",
       "            <th>de_DE</th>\n",
       "            <th>hi_IN</th>\n",
       "            <th>es_ES</th>\n",
       "            <th>fr_FR</th>\n",
       "            <th>it_IT</th>\n",
       "            <th>ar_SA</th>\n",
       "            <th>nl_NL</th>\n",
       "            <th>ja_JP</th>\n",
       "            <th>pt_PT</th>\n",
       "        </tr>\n",
       "    </thead>\n",
       "    <tbody>\n",
       "        <tr>\n",
       "            <td>train</td>\n",
       "            <td>11468</td>\n",
       "            <td>11267</td>\n",
       "            <td>11212</td>\n",
       "            <td>11170</td>\n",
       "            <td>11189</td>\n",
       "            <td>10961</td>\n",
       "            <td>10991</td>\n",
       "            <td>11260</td>\n",
       "            <td>11025</td>\n",
       "            <td>11078</td>\n",
       "        </tr>\n",
       "        <tr>\n",
       "            <td>test</td>\n",
       "            <td>2970</td>\n",
       "            <td>2955</td>\n",
       "            <td>2945</td>\n",
       "            <td>2944</td>\n",
       "            <td>2943</td>\n",
       "            <td>2918</td>\n",
       "            <td>2907</td>\n",
       "            <td>2953</td>\n",
       "            <td>2919</td>\n",
       "            <td>2932</td>\n",
       "        </tr>\n",
       "        <tr>\n",
       "            <td>validation</td>\n",
       "            <td>2031</td>\n",
       "            <td>2022</td>\n",
       "            <td>2013</td>\n",
       "            <td>2015</td>\n",
       "            <td>2016</td>\n",
       "            <td>2001</td>\n",
       "            <td>2007</td>\n",
       "            <td>2017</td>\n",
       "            <td>2015</td>\n",
       "            <td>2004</td>\n",
       "        </tr>\n",
       "    </tbody>\n",
       "</table>"
      ],
      "text/plain": [
       "+------------+-------+-------+-------+-------+-------+-------+-------+-------+-------+-------+\n",
       "|  Dataset   | en_US | de_DE | hi_IN | es_ES | fr_FR | it_IT | ar_SA | nl_NL | ja_JP | pt_PT |\n",
       "+------------+-------+-------+-------+-------+-------+-------+-------+-------+-------+-------+\n",
       "|   train    | 11468 | 11267 | 11212 | 11170 | 11189 | 10961 | 10991 | 11260 | 11025 | 11078 |\n",
       "|    test    |  2970 |  2955 |  2945 |  2944 |  2943 |  2918 |  2907 |  2953 |  2919 |  2932 |\n",
       "| validation |  2031 |  2022 |  2013 |  2015 |  2016 |  2001 |  2007 |  2017 |  2015 |  2004 |\n",
       "+------------+-------+-------+-------+-------+-------+-------+-------+-------+-------+-------+"
      ]
     },
     "execution_count": 11,
     "metadata": {},
     "output_type": "execute_result"
    }
   ],
   "source": [
    "print(\"Quantidade de valores diferentes em cada língua em cada dataset:\")\n",
    "table = PrettyTable()\n",
    "table.field_names = [\"Dataset\"] + list(train.columns[2:])\n",
    "for (dataset,dataset_name) in [(train,\"train\"), (test,\"test\"), (validation,\"validation\")]:\n",
    "    languages = dataset.columns[2:]\n",
    "    row = [dataset_name] + [dataset[language].nunique() for language in languages]\n",
    "    table.add_row(row)\n",
    "table"
   ]
  },
  {
   "cell_type": "code",
   "execution_count": 12,
   "metadata": {},
   "outputs": [
    {
     "name": "stdout",
     "output_type": "stream",
     "text": [
      "Quantidade de valores diferentes em cada língua em cada dataset:\n"
     ]
    },
    {
     "data": {
      "text/html": [
       "<table>\n",
       "    <thead>\n",
       "        <tr>\n",
       "            <th>Dataset</th>\n",
       "            <th>en_US</th>\n",
       "            <th>de_DE</th>\n",
       "            <th>es_ES</th>\n",
       "            <th>fr_FR</th>\n",
       "            <th>pt_PT</th>\n",
       "        </tr>\n",
       "    </thead>\n",
       "    <tbody>\n",
       "        <tr>\n",
       "            <td>train</td>\n",
       "            <td>11468</td>\n",
       "            <td>11267</td>\n",
       "            <td>11170</td>\n",
       "            <td>11189</td>\n",
       "            <td>11078</td>\n",
       "        </tr>\n",
       "        <tr>\n",
       "            <td>test</td>\n",
       "            <td>2970</td>\n",
       "            <td>2955</td>\n",
       "            <td>2944</td>\n",
       "            <td>2943</td>\n",
       "            <td>2932</td>\n",
       "        </tr>\n",
       "        <tr>\n",
       "            <td>validation</td>\n",
       "            <td>2031</td>\n",
       "            <td>2022</td>\n",
       "            <td>2015</td>\n",
       "            <td>2016</td>\n",
       "            <td>2004</td>\n",
       "        </tr>\n",
       "    </tbody>\n",
       "</table>"
      ],
      "text/plain": [
       "+------------+-------+-------+-------+-------+-------+\n",
       "|  Dataset   | en_US | de_DE | es_ES | fr_FR | pt_PT |\n",
       "+------------+-------+-------+-------+-------+-------+\n",
       "|   train    | 11468 | 11267 | 11170 | 11189 | 11078 |\n",
       "|    test    |  2970 |  2955 |  2944 |  2943 |  2932 |\n",
       "| validation |  2031 |  2022 |  2015 |  2016 |  2004 |\n",
       "+------------+-------+-------+-------+-------+-------+"
      ]
     },
     "execution_count": 12,
     "metadata": {},
     "output_type": "execute_result"
    }
   ],
   "source": [
    "print(\"Quantidade de valores diferentes em cada língua em cada dataset:\")\n",
    "table = PrettyTable()\n",
    "table.field_names = [\"Dataset\"] + [\"en_US\", \"de_DE\", \"es_ES\", \"fr_FR\",\"pt_PT\"]\n",
    "for (dataset,dataset_name) in [(train,\"train\"), (test,\"test\"), (validation,\"validation\")]:\n",
    "    languages = [\"en_US\", \"de_DE\", \"es_ES\", \"fr_FR\",\"pt_PT\"]\n",
    "    row = [dataset_name] + [dataset[language].nunique() for language in languages]\n",
    "    table.add_row(row)\n",
    "table"
   ]
  }
 ],
 "metadata": {
  "kernelspec": {
   "display_name": "ap",
   "language": "python",
   "name": "python3"
  },
  "language_info": {
   "codemirror_mode": {
    "name": "ipython",
    "version": 3
   },
   "file_extension": ".py",
   "mimetype": "text/x-python",
   "name": "python",
   "nbconvert_exporter": "python",
   "pygments_lexer": "ipython3",
   "version": "3.9.18"
  }
 },
 "nbformat": 4,
 "nbformat_minor": 2
}
